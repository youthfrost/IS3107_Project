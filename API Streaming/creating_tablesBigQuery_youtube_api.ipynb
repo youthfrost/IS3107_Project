{
 "cells": [
  {
   "cell_type": "markdown",
   "metadata": {},
   "source": [
    "Notebook to create the tables in Big Query for Streaming Data"
   ]
  },
  {
   "cell_type": "code",
   "execution_count": null,
   "metadata": {},
   "outputs": [],
   "source": [
    "import os\n",
    "from googleapiclient.discovery import build\n",
    "from google.cloud import pubsub_v1\n",
    "import json\n",
    "import time\n",
    "from google.cloud import bigquery\n",
    "os.environ[\"GOOGLE_APPLICATION_CREDENTIALS\"] =  \"./aesthetic-nova-454803-r7-2dd218af5466.json\""
   ]
  },
  {
   "cell_type": "code",
   "execution_count": null,
   "metadata": {},
   "outputs": [
    {
     "name": "stdout",
     "output_type": "stream",
     "text": [
      "✅ Table 'youtube_channel_videos' created successfully in dataset 'youtube_trending_dataset'.\n"
     ]
    }
   ],
   "source": [
    "\n",
    "\n",
    "# Set project and dataset details\n",
    "PROJECT_ID = \"aesthetic-nova-454803-r7\"\n",
    "DATASET_ID = \"youtube_trending_dataset\"\n",
    "#TABLE_ID = \"youtube_trending_stream\"\n",
    "TABLE_ID = \"youtube_channel_videos\"\n",
    "# Initialize BigQuery client\n",
    "client = bigquery.Client(project=PROJECT_ID)\n",
    "\n",
    "# Define the table schema\n",
    "schema = [\n",
    "    bigquery.SchemaField(\"videoId\", \"STRING\", mode=\"REQUIRED\"),\n",
    "    bigquery.SchemaField(\"title\", \"STRING\", mode=\"REQUIRED\"),\n",
    "    bigquery.SchemaField(\"publishedAt\", \"TIMESTAMP\", mode=\"REQUIRED\"),\n",
    "    bigquery.SchemaField(\"channelTitle\", \"STRING\", mode=\"REQUIRED\"),\n",
    "    bigquery.SchemaField(\"viewCount\", \"STRING\", mode=\"NULLABLE\"),\n",
    "    bigquery.SchemaField(\"likeCount\", \"STRING\", mode=\"NULLABLE\"),\n",
    "    bigquery.SchemaField(\"commentCount\", \"STRING\", mode=\"NULLABLE\"),\n",
    "    bigquery.SchemaField(\"tags\", \"STRING\", mode=\"REPEATED\"),\n",
    "    bigquery.SchemaField(\"categoryId\", \"STRING\", mode=\"REQUIRED\"),\n",
    "    bigquery.SchemaField(\"retrievedAt\", \"TIMESTAMP\", mode=\"REQUIRED\"),\n",
    "]\n",
    "\n",
    "# Create table reference\n",
    "table_ref = f\"{PROJECT_ID}.{DATASET_ID}.{TABLE_ID}\"\n",
    "\n",
    "# Define table\n",
    "table = bigquery.Table(table_ref, schema=schema)\n",
    "\n",
    "# Create table if not exists\n",
    "try:\n",
    "    table = client.create_table(table)\n",
    "    print(f\"✅ Table '{TABLE_ID}' created successfully in dataset '{DATASET_ID}'.\")\n",
    "except Exception as e:\n",
    "    print(f\"⚠️ Error creating table: {e}\")\n"
   ]
  },
  {
   "cell_type": "markdown",
   "metadata": {},
   "source": [
    "Channels Table"
   ]
  },
  {
   "cell_type": "code",
   "execution_count": null,
   "metadata": {},
   "outputs": [
    {
     "name": "stdout",
     "output_type": "stream",
     "text": [
      "✅ Table 'Channels' created successfully in dataset 'youtube_trending_dataset'.\n"
     ]
    }
   ],
   "source": [
    "\n",
    "\n",
    "# Set project and dataset details\n",
    "PROJECT_ID = \"aesthetic-nova-454803-r7\"\n",
    "DATASET_ID = \"youtube_trending_dataset\"\n",
    "#TABLE_ID = \"youtube_trending_stream\"\n",
    "TABLE_ID = \"Channels\"\n",
    "# Initialize BigQuery client\n",
    "client = bigquery.Client(project=PROJECT_ID)\n",
    "\n",
    "# Define the table schema\n",
    "channel_schema = [\n",
    "    bigquery.SchemaField(\"channelId\", \"STRING\", mode=\"REQUIRED\"),\n",
    "    bigquery.SchemaField(\"channelName\", \"STRING\", mode=\"REQUIRED\"),\n",
    "    bigquery.SchemaField(\"description\", \"STRING\", mode=\"NULLABLE\"),\n",
    "    bigquery.SchemaField(\"publishedAt\", \"TIMESTAMP\", mode=\"REQUIRED\"),\n",
    "    bigquery.SchemaField(\"retrievedAt\", \"TIMESTAMP\", mode=\"REQUIRED\"),\n",
    "]\n",
    "\n",
    "\n",
    "# Create table reference\n",
    "table_ref = f\"{PROJECT_ID}.{DATASET_ID}.{TABLE_ID}\"\n",
    "\n",
    "# Define table\n",
    "table = bigquery.Table(table_ref, schema=channel_schema)\n",
    "\n",
    "# Create table if not exists\n",
    "try:\n",
    "    table = client.create_table(table)\n",
    "    print(f\"✅ Table '{TABLE_ID}' created successfully in dataset '{DATASET_ID}'.\")\n",
    "except Exception as e:\n",
    "    print(f\"⚠️ Error creating table: {e}\")\n"
   ]
  },
  {
   "cell_type": "markdown",
   "metadata": {},
   "source": [
    "Channels_Statistics Table"
   ]
  },
  {
   "cell_type": "code",
   "execution_count": null,
   "metadata": {},
   "outputs": [
    {
     "name": "stdout",
     "output_type": "stream",
     "text": [
      "✅ Table 'Channels_Statistics' created successfully in dataset 'youtube_trending_dataset'.\n"
     ]
    }
   ],
   "source": [
    "# Set project and dataset details\n",
    "PROJECT_ID = \"aesthetic-nova-454803-r7\"\n",
    "DATASET_ID = \"youtube_trending_dataset\"\n",
    "#TABLE_ID = \"youtube_trending_stream\"\n",
    "TABLE_ID = \"Channels_Statistics\"\n",
    "# Initialize BigQuery client\n",
    "client = bigquery.Client(project=PROJECT_ID)\n",
    "\n",
    "# Define the table schema\n",
    "channel_statistics_schema = [\n",
    "    bigquery.SchemaField(\"channelId\", \"STRING\", mode=\"REQUIRED\"),\n",
    "    bigquery.SchemaField(\"subscriberCount\", \"INTEGER\", mode=\"REQUIRED\"),\n",
    "    bigquery.SchemaField(\"viewCount\", \"INTEGER\", mode=\"NULLABLE\"),\n",
    "    bigquery.SchemaField(\"videoCount\", \"INTEGER\", mode=\"REQUIRED\"),\n",
    "    bigquery.SchemaField(\"retrievedAt\", \"TIMESTAMP\", mode=\"REQUIRED\"),\n",
    "]\n",
    "\n",
    "\n",
    "# Create table reference\n",
    "table_ref = f\"{PROJECT_ID}.{DATASET_ID}.{TABLE_ID}\"\n",
    "\n",
    "# Define table\n",
    "table = bigquery.Table(table_ref, schema=channel_statistics_schema)\n",
    "\n",
    "# Create table if not exists\n",
    "try:\n",
    "    table = client.create_table(table)\n",
    "    print(f\"✅ Table '{TABLE_ID}' created successfully in dataset '{DATASET_ID}'.\")\n",
    "except Exception as e:\n",
    "    print(f\"⚠️ Error creating table: {e}\")\n"
   ]
  },
  {
   "cell_type": "markdown",
   "metadata": {},
   "source": [
    "Videos Table"
   ]
  },
  {
   "cell_type": "code",
   "execution_count": null,
   "metadata": {},
   "outputs": [
    {
     "name": "stdout",
     "output_type": "stream",
     "text": [
      "✅ Table 'Videos' created successfully in dataset 'youtube_trending_dataset'.\n"
     ]
    }
   ],
   "source": [
    "\n",
    "# Set project and dataset details\n",
    "PROJECT_ID = \"aesthetic-nova-454803-r7\"\n",
    "DATASET_ID = \"youtube_trending_dataset\"\n",
    "#TABLE_ID = \"youtube_trending_stream\"\n",
    "TABLE_ID = \"Videos\"\n",
    "# Initialize BigQuery client\n",
    "client = bigquery.Client(project=PROJECT_ID)\n",
    "\n",
    "# Define the table schema\n",
    "channel_statistics_schema = [\n",
    "    bigquery.SchemaField(\"videoId\", \"STRING\", mode=\"REQUIRED\"),\n",
    "    bigquery.SchemaField(\"channelName\", \"STRING\", mode=\"REQUIRED\"),\n",
    "    bigquery.SchemaField(\"title\", \"STRING\", mode=\"REQUIRED\"),\n",
    "    bigquery.SchemaField(\"publishedAt\", \"TIMESTAMP\", mode=\"REQUIRED\"),\n",
    "    bigquery.SchemaField(\"categoryId\", \"STRING\", mode=\"REQUIRED\"),\n",
    "    bigquery.SchemaField(\"tags\", \"STRING\", mode=\"REPEATED\"),\n",
    "    bigquery.SchemaField(\"retrievedAt\", \"TIMESTAMP\", mode=\"REQUIRED\")\n",
    "    \n",
    "\n",
    "    \n",
    "]\n",
    "\n",
    "\n",
    "# Create table reference\n",
    "table_ref = f\"{PROJECT_ID}.{DATASET_ID}.{TABLE_ID}\"\n",
    "\n",
    "# Define table\n",
    "table = bigquery.Table(table_ref, schema=channel_statistics_schema)\n",
    "\n",
    "# Create table if not exists\n",
    "try:\n",
    "    table = client.create_table(table)\n",
    "    print(f\"✅ Table '{TABLE_ID}' created successfully in dataset '{DATASET_ID}'.\")\n",
    "except Exception as e:\n",
    "    print(f\"⚠️ Error creating table: {e}\")\n"
   ]
  },
  {
   "cell_type": "markdown",
   "metadata": {},
   "source": [
    "Videos_statistics Table"
   ]
  },
  {
   "cell_type": "code",
   "execution_count": null,
   "metadata": {},
   "outputs": [
    {
     "name": "stdout",
     "output_type": "stream",
     "text": [
      "✅ Table 'Videos_Statistics' created successfully in dataset 'youtube_trending_dataset'.\n"
     ]
    }
   ],
   "source": [
    "\n",
    "# Set project and dataset details\n",
    "PROJECT_ID = \"aesthetic-nova-454803-r7\"\n",
    "DATASET_ID = \"youtube_trending_dataset\"\n",
    "#TABLE_ID = \"youtube_trending_stream\"\n",
    "TABLE_ID = \"Videos_Statistics\"\n",
    "# Initialize BigQuery client\n",
    "client = bigquery.Client(project=PROJECT_ID)\n",
    "\n",
    "# Define the table schema\n",
    "channel_statistics_schema = [\n",
    "    bigquery.SchemaField(\"videoId\", \"STRING\", mode=\"REQUIRED\"),\n",
    "    bigquery.SchemaField(\"viewCount\", \"INTEGER\", mode=\"NULLABLE\"),\n",
    "    bigquery.SchemaField(\"likeCount\", \"INTEGER\", mode=\"NULLABLE\"),\n",
    "    bigquery.SchemaField(\"commentCount\", \"INTEGER\", mode=\"NULLABLE\"),\n",
    "    bigquery.SchemaField(\"retrievedAt\", \"TIMESTAMP\", mode=\"REQUIRED\")\n",
    "    \n",
    "]\n",
    "\n",
    "\n",
    "# Create table reference\n",
    "table_ref = f\"{PROJECT_ID}.{DATASET_ID}.{TABLE_ID}\"\n",
    "\n",
    "# Define table\n",
    "table = bigquery.Table(table_ref, schema=channel_statistics_schema)\n",
    "\n",
    "# Create table if not exists\n",
    "try:\n",
    "    table = client.create_table(table)\n",
    "    print(f\"✅ Table '{TABLE_ID}' created successfully in dataset '{DATASET_ID}'.\")\n",
    "except Exception as e:\n",
    "    print(f\"⚠️ Error creating table: {e}\")\n"
   ]
  },
  {
   "cell_type": "markdown",
   "metadata": {},
   "source": [
    "Trending Table"
   ]
  },
  {
   "cell_type": "code",
   "execution_count": null,
   "metadata": {},
   "outputs": [
    {
     "name": "stdout",
     "output_type": "stream",
     "text": [
      "✅ Table 'Trending' created successfully in dataset 'youtube_trending_dataset'.\n"
     ]
    }
   ],
   "source": [
    "\n",
    "# Set project and dataset details\n",
    "PROJECT_ID = \"aesthetic-nova-454803-r7\"\n",
    "DATASET_ID = \"youtube_trending_dataset\"\n",
    "#TABLE_ID = \"youtube_trending_stream\"\n",
    "TABLE_ID = \"Trending\"\n",
    "# Initialize BigQuery client\n",
    "client = bigquery.Client(project=PROJECT_ID)\n",
    "\n",
    "# Define the table schema\n",
    "channel_statistics_schema = [\n",
    "    bigquery.SchemaField(\"videoId\", \"STRING\", mode=\"REQUIRED\"),\n",
    "    bigquery.SchemaField(\"retrievedAt\", \"TIMESTAMP\", mode=\"REQUIRED\")\n",
    "]\n",
    "\n",
    "\n",
    "# Create table reference\n",
    "table_ref = f\"{PROJECT_ID}.{DATASET_ID}.{TABLE_ID}\"\n",
    "\n",
    "# Define table\n",
    "table = bigquery.Table(table_ref, schema=channel_statistics_schema)\n",
    "\n",
    "# Create table if not exists\n",
    "try:\n",
    "    table = client.create_table(table)\n",
    "    print(f\"✅ Table '{TABLE_ID}' created successfully in dataset '{DATASET_ID}'.\")\n",
    "except Exception as e:\n",
    "    print(f\"⚠️ Error creating table: {e}\")\n"
   ]
  }
 ],
 "metadata": {
  "kernelspec": {
   "display_name": "school",
   "language": "python",
   "name": "python3"
  },
  "language_info": {
   "codemirror_mode": {
    "name": "ipython",
    "version": 3
   },
   "file_extension": ".py",
   "mimetype": "text/x-python",
   "name": "python",
   "nbconvert_exporter": "python",
   "pygments_lexer": "ipython3",
   "version": "3.13.2"
  }
 },
 "nbformat": 4,
 "nbformat_minor": 2
}
