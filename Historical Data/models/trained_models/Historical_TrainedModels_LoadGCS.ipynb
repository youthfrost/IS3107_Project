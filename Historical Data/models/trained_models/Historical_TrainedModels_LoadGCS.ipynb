{
 "cells": [
  {
   "cell_type": "markdown",
   "metadata": {},
   "source": [
    "## Loading Trained Model files (.pkl and .h5) to GCS"
   ]
  },
  {
   "cell_type": "code",
   "execution_count": 4,
   "metadata": {},
   "outputs": [],
   "source": [
    "import logging\n",
    "from google.cloud import storage\n",
    "import os \n",
    "import json"
   ]
  },
  {
   "cell_type": "code",
   "execution_count": 7,
   "metadata": {},
   "outputs": [],
   "source": [
    "os.environ[\"GOOGLE_APPLICATION_CREDENTIALS\"] = \"../../aesthetic-nova-454803-r7-94e7eb0af61c.json\""
   ]
  },
  {
   "cell_type": "markdown",
   "metadata": {},
   "source": [
    "### Loading into GCS Bucket"
   ]
  },
  {
   "cell_type": "code",
   "execution_count": 10,
   "metadata": {},
   "outputs": [
    {
     "name": "stderr",
     "output_type": "stream",
     "text": [
      "2025-04-19 12:18:35,921 - INFO - File uploaded: scaler.pkl to trained_models/scaler.pkl\n",
      "2025-04-19 12:18:36,293 - INFO - File uploaded: ohe.pkl to trained_models/ohe.pkl\n",
      "2025-04-19 12:18:36,714 - INFO - File uploaded: tfidf.pkl to trained_models/tfidf.pkl\n",
      "2025-04-19 12:18:39,289 - INFO - File uploaded: tuned_NN_model.h5 to trained_models/tuned_NN_model.h5\n"
     ]
    }
   ],
   "source": [
    "import logging\n",
    "from google.cloud import storage\n",
    "import os\n",
    "\n",
    "# Configure logging\n",
    "logging.basicConfig(level=logging.INFO, format='%(asctime)s - %(levelname)s - %(message)s')\n",
    "logger = logging.getLogger(__name__)\n",
    "\n",
    "class FileToGCPLoader:\n",
    "    def __init__(self, file_paths, bucket_name, gcp_project_id):\n",
    "        \"\"\"\n",
    "        Initialize the loader with local file paths and GCP config\n",
    "        \"\"\"\n",
    "        self.file_paths = file_paths\n",
    "        self.bucket_name = bucket_name\n",
    "        self.gcp_project_id = gcp_project_id\n",
    "\n",
    "        # Initialize GCS client\n",
    "        self.storage_client = storage.Client(project=self.gcp_project_id)\n",
    "        self.bucket = self.storage_client.bucket(self.bucket_name)\n",
    "\n",
    "    def upload_to_gcs(self, destination_blob_name):\n",
    "        \"\"\"\n",
    "        Upload the files to Google Cloud Storage\n",
    "        \"\"\"\n",
    "        try:\n",
    "            # Upload all files\n",
    "            for file_path in self.file_paths:\n",
    "                # Create the full GCS path\n",
    "                destination_path = os.path.join(destination_blob_name, os.path.basename(file_path))\n",
    "\n",
    "                # Create a new blob (GCS object)\n",
    "                blob = self.bucket.blob(destination_path)\n",
    "\n",
    "                # Upload the file to GCS\n",
    "                blob.upload_from_filename(file_path)\n",
    "                logger.info(f\"File uploaded: {file_path} to {destination_path}\")\n",
    "        except Exception as e:\n",
    "            logger.error(f\"Upload failed: {e}\")\n",
    "            raise\n",
    "\n",
    "if __name__ == \"__main__\":\n",
    "    FILE_PATHS = [\n",
    "        \"scaler.pkl\",\n",
    "        \"ohe.pkl\",\n",
    "        \"tfidf.pkl\",\n",
    "        \"tuned_NN_model.h5\"\n",
    "    ]\n",
    "\n",
    "    BUCKET_NAME = \"youtube-trending-videos-dataset\"\n",
    "    GCP_PROJECT_ID = \"aesthetic-nova-454803-r7\"\n",
    "    GCS_DEST_PATH = \"trained_models\"  # Subdirectory in GCS\n",
    "\n",
    "    uploader = FileToGCPLoader(FILE_PATHS, BUCKET_NAME, GCP_PROJECT_ID)\n",
    "    uploader.upload_to_gcs(GCS_DEST_PATH)\n"
   ]
  }
 ],
 "metadata": {
  "kernelspec": {
   "display_name": "Python 3",
   "language": "python",
   "name": "python3"
  },
  "language_info": {
   "codemirror_mode": {
    "name": "ipython",
    "version": 3
   },
   "file_extension": ".py",
   "mimetype": "text/x-python",
   "name": "python",
   "nbconvert_exporter": "python",
   "pygments_lexer": "ipython3",
   "version": "3.11.11"
  }
 },
 "nbformat": 4,
 "nbformat_minor": 2
}
